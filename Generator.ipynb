{
 "cells": [
  {
   "cell_type": "code",
   "execution_count": 1,
   "id": "08a2c757",
   "metadata": {},
   "outputs": [],
   "source": [
    "import random\n",
    "import string\n",
    "import os"
   ]
  },
  {
   "cell_type": "code",
   "execution_count": 2,
   "id": "8cf3520c",
   "metadata": {},
   "outputs": [],
   "source": [
    "def generateFile(filename,size):\n",
    "    Path = \"D:/PythonProjects/Data/Encryption\"\n",
    "    os.chdir(Path)\n",
    "    file_path = f\"{Path}/{filename}\"\n",
    "            \n",
    "    chars = ''.join([random.choice(string.ascii_letters) for i in range(size)]) \n",
    "    with open(file_path, 'w') as f:\n",
    "        f.write(chars)"
   ]
  },
  {
   "cell_type": "code",
   "execution_count": 3,
   "id": "503feebe",
   "metadata": {},
   "outputs": [],
   "source": [
    "def generateString(length):\n",
    "    chars = ''.join([random.choice(string.ascii_letters) for i in range(length)]) \n",
    "    return chars\n",
    "        \n",
    "\n",
    "#     with open('my_file', 'wb') as f:\n",
    "#     num_chars = 1024 * 1024 * 1024\n",
    "#     f.write('0' * num_chars)"
   ]
  },
  {
   "cell_type": "code",
   "execution_count": 4,
   "id": "ebac3060",
   "metadata": {},
   "outputs": [],
   "source": [
    "#print(generateString(10))\n",
    "#generateFile(\"Plain-1.txt\",1024*10)"
   ]
  }
 ],
 "metadata": {
  "kernelspec": {
   "display_name": "Python 3 (ipykernel)",
   "language": "python",
   "name": "python3"
  },
  "language_info": {
   "codemirror_mode": {
    "name": "ipython",
    "version": 3
   },
   "file_extension": ".py",
   "mimetype": "text/x-python",
   "name": "python",
   "nbconvert_exporter": "python",
   "pygments_lexer": "ipython3",
   "version": "3.9.13"
  }
 },
 "nbformat": 4,
 "nbformat_minor": 5
}
